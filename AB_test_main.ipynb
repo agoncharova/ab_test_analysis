{
 "cells": [
  {
   "cell_type": "code",
   "execution_count": 1,
   "id": "5289189c",
   "metadata": {},
   "outputs": [],
   "source": [
    "import numpy as np\n",
    "import pandas as pd\n",
    "import scipy as sp\n",
    "import matplotlib.pyplot as plt\n",
    "from scipy.stats import ttest_ind, shapiro, mannwhitneyu\n",
    "import warnings\n",
    "import seaborn as sns\n",
    "from scipy import stats\n",
    "\n",
    "warnings.filterwarnings(\"ignore\")"
   ]
  },
  {
   "cell_type": "code",
   "execution_count": 2,
   "id": "77636cc5",
   "metadata": {},
   "outputs": [
    {
     "data": {
      "text/html": [
       "<div>\n",
       "<style scoped>\n",
       "    .dataframe tbody tr th:only-of-type {\n",
       "        vertical-align: middle;\n",
       "    }\n",
       "\n",
       "    .dataframe tbody tr th {\n",
       "        vertical-align: top;\n",
       "    }\n",
       "\n",
       "    .dataframe thead th {\n",
       "        text-align: right;\n",
       "    }\n",
       "</style>\n",
       "<table border=\"1\" class=\"dataframe\">\n",
       "  <thead>\n",
       "    <tr style=\"text-align: right;\">\n",
       "      <th></th>\n",
       "      <th>USER_ID</th>\n",
       "      <th>VARIANT_NAME</th>\n",
       "      <th>REVENUE</th>\n",
       "    </tr>\n",
       "  </thead>\n",
       "  <tbody>\n",
       "    <tr>\n",
       "      <th>0</th>\n",
       "      <td>737</td>\n",
       "      <td>variant</td>\n",
       "      <td>0.0</td>\n",
       "    </tr>\n",
       "    <tr>\n",
       "      <th>1</th>\n",
       "      <td>2423</td>\n",
       "      <td>control</td>\n",
       "      <td>0.0</td>\n",
       "    </tr>\n",
       "    <tr>\n",
       "      <th>2</th>\n",
       "      <td>9411</td>\n",
       "      <td>control</td>\n",
       "      <td>0.0</td>\n",
       "    </tr>\n",
       "    <tr>\n",
       "      <th>3</th>\n",
       "      <td>7311</td>\n",
       "      <td>control</td>\n",
       "      <td>0.0</td>\n",
       "    </tr>\n",
       "    <tr>\n",
       "      <th>4</th>\n",
       "      <td>6174</td>\n",
       "      <td>variant</td>\n",
       "      <td>0.0</td>\n",
       "    </tr>\n",
       "    <tr>\n",
       "      <th>...</th>\n",
       "      <td>...</td>\n",
       "      <td>...</td>\n",
       "      <td>...</td>\n",
       "    </tr>\n",
       "    <tr>\n",
       "      <th>9995</th>\n",
       "      <td>1981</td>\n",
       "      <td>control</td>\n",
       "      <td>0.0</td>\n",
       "    </tr>\n",
       "    <tr>\n",
       "      <th>9996</th>\n",
       "      <td>502</td>\n",
       "      <td>variant</td>\n",
       "      <td>0.0</td>\n",
       "    </tr>\n",
       "    <tr>\n",
       "      <th>9997</th>\n",
       "      <td>9214</td>\n",
       "      <td>variant</td>\n",
       "      <td>0.0</td>\n",
       "    </tr>\n",
       "    <tr>\n",
       "      <th>9998</th>\n",
       "      <td>7741</td>\n",
       "      <td>control</td>\n",
       "      <td>0.0</td>\n",
       "    </tr>\n",
       "    <tr>\n",
       "      <th>9999</th>\n",
       "      <td>9468</td>\n",
       "      <td>control</td>\n",
       "      <td>0.0</td>\n",
       "    </tr>\n",
       "  </tbody>\n",
       "</table>\n",
       "<p>10000 rows × 3 columns</p>\n",
       "</div>"
      ],
      "text/plain": [
       "      USER_ID VARIANT_NAME  REVENUE\n",
       "0         737      variant      0.0\n",
       "1        2423      control      0.0\n",
       "2        9411      control      0.0\n",
       "3        7311      control      0.0\n",
       "4        6174      variant      0.0\n",
       "...       ...          ...      ...\n",
       "9995     1981      control      0.0\n",
       "9996      502      variant      0.0\n",
       "9997     9214      variant      0.0\n",
       "9998     7741      control      0.0\n",
       "9999     9468      control      0.0\n",
       "\n",
       "[10000 rows x 3 columns]"
      ]
     },
     "execution_count": 2,
     "metadata": {},
     "output_type": "execute_result"
    }
   ],
   "source": [
    "df = pd.read_csv(r\"data.csv\")\n",
    "df"
   ]
  },
  {
   "cell_type": "code",
   "execution_count": 3,
   "id": "ed87e4d8",
   "metadata": {},
   "outputs": [
    {
     "data": {
      "text/html": [
       "<div>\n",
       "<style scoped>\n",
       "    .dataframe tbody tr th:only-of-type {\n",
       "        vertical-align: middle;\n",
       "    }\n",
       "\n",
       "    .dataframe tbody tr th {\n",
       "        vertical-align: top;\n",
       "    }\n",
       "\n",
       "    .dataframe thead th {\n",
       "        text-align: right;\n",
       "    }\n",
       "</style>\n",
       "<table border=\"1\" class=\"dataframe\">\n",
       "  <thead>\n",
       "    <tr style=\"text-align: right;\">\n",
       "      <th></th>\n",
       "      <th>USER_ID</th>\n",
       "      <th>REVENUE</th>\n",
       "    </tr>\n",
       "  </thead>\n",
       "  <tbody>\n",
       "    <tr>\n",
       "      <th>count</th>\n",
       "      <td>10000.000000</td>\n",
       "      <td>10000.000000</td>\n",
       "    </tr>\n",
       "    <tr>\n",
       "      <th>mean</th>\n",
       "      <td>4981.080200</td>\n",
       "      <td>0.099447</td>\n",
       "    </tr>\n",
       "    <tr>\n",
       "      <th>std</th>\n",
       "      <td>2890.590115</td>\n",
       "      <td>2.318529</td>\n",
       "    </tr>\n",
       "    <tr>\n",
       "      <th>min</th>\n",
       "      <td>2.000000</td>\n",
       "      <td>0.000000</td>\n",
       "    </tr>\n",
       "    <tr>\n",
       "      <th>25%</th>\n",
       "      <td>2468.750000</td>\n",
       "      <td>0.000000</td>\n",
       "    </tr>\n",
       "    <tr>\n",
       "      <th>50%</th>\n",
       "      <td>4962.000000</td>\n",
       "      <td>0.000000</td>\n",
       "    </tr>\n",
       "    <tr>\n",
       "      <th>75%</th>\n",
       "      <td>7511.500000</td>\n",
       "      <td>0.000000</td>\n",
       "    </tr>\n",
       "    <tr>\n",
       "      <th>max</th>\n",
       "      <td>10000.000000</td>\n",
       "      <td>196.010000</td>\n",
       "    </tr>\n",
       "  </tbody>\n",
       "</table>\n",
       "</div>"
      ],
      "text/plain": [
       "            USER_ID       REVENUE\n",
       "count  10000.000000  10000.000000\n",
       "mean    4981.080200      0.099447\n",
       "std     2890.590115      2.318529\n",
       "min        2.000000      0.000000\n",
       "25%     2468.750000      0.000000\n",
       "50%     4962.000000      0.000000\n",
       "75%     7511.500000      0.000000\n",
       "max    10000.000000    196.010000"
      ]
     },
     "execution_count": 3,
     "metadata": {},
     "output_type": "execute_result"
    }
   ],
   "source": [
    "df.describe()"
   ]
  },
  {
   "cell_type": "code",
   "execution_count": 4,
   "id": "4ad3aa4e",
   "metadata": {},
   "outputs": [],
   "source": [
    "# Generating the data\n",
    "control = df.loc[df[\"VARIANT_NAME\"] == \"control\"]\n",
    "test = df.loc[df[\"VARIANT_NAME\"] == \"variant\"]"
   ]
  },
  {
   "cell_type": "code",
   "execution_count": 5,
   "id": "98982623",
   "metadata": {},
   "outputs": [
    {
     "data": {
      "text/html": [
       "<div>\n",
       "<style scoped>\n",
       "    .dataframe tbody tr th:only-of-type {\n",
       "        vertical-align: middle;\n",
       "    }\n",
       "\n",
       "    .dataframe tbody tr th {\n",
       "        vertical-align: top;\n",
       "    }\n",
       "\n",
       "    .dataframe thead th {\n",
       "        text-align: right;\n",
       "    }\n",
       "</style>\n",
       "<table border=\"1\" class=\"dataframe\">\n",
       "  <thead>\n",
       "    <tr style=\"text-align: right;\">\n",
       "      <th></th>\n",
       "      <th>USER_ID</th>\n",
       "      <th>VARIANT_NAME</th>\n",
       "      <th>REVENUE</th>\n",
       "    </tr>\n",
       "  </thead>\n",
       "  <tbody>\n",
       "    <tr>\n",
       "      <th>1</th>\n",
       "      <td>2423</td>\n",
       "      <td>control</td>\n",
       "      <td>0.0</td>\n",
       "    </tr>\n",
       "    <tr>\n",
       "      <th>2</th>\n",
       "      <td>9411</td>\n",
       "      <td>control</td>\n",
       "      <td>0.0</td>\n",
       "    </tr>\n",
       "    <tr>\n",
       "      <th>3</th>\n",
       "      <td>7311</td>\n",
       "      <td>control</td>\n",
       "      <td>0.0</td>\n",
       "    </tr>\n",
       "    <tr>\n",
       "      <th>6</th>\n",
       "      <td>2849</td>\n",
       "      <td>control</td>\n",
       "      <td>0.0</td>\n",
       "    </tr>\n",
       "    <tr>\n",
       "      <th>7</th>\n",
       "      <td>9168</td>\n",
       "      <td>control</td>\n",
       "      <td>0.0</td>\n",
       "    </tr>\n",
       "    <tr>\n",
       "      <th>...</th>\n",
       "      <td>...</td>\n",
       "      <td>...</td>\n",
       "      <td>...</td>\n",
       "    </tr>\n",
       "    <tr>\n",
       "      <th>9988</th>\n",
       "      <td>428</td>\n",
       "      <td>control</td>\n",
       "      <td>0.0</td>\n",
       "    </tr>\n",
       "    <tr>\n",
       "      <th>9994</th>\n",
       "      <td>3129</td>\n",
       "      <td>control</td>\n",
       "      <td>0.0</td>\n",
       "    </tr>\n",
       "    <tr>\n",
       "      <th>9995</th>\n",
       "      <td>1981</td>\n",
       "      <td>control</td>\n",
       "      <td>0.0</td>\n",
       "    </tr>\n",
       "    <tr>\n",
       "      <th>9998</th>\n",
       "      <td>7741</td>\n",
       "      <td>control</td>\n",
       "      <td>0.0</td>\n",
       "    </tr>\n",
       "    <tr>\n",
       "      <th>9999</th>\n",
       "      <td>9468</td>\n",
       "      <td>control</td>\n",
       "      <td>0.0</td>\n",
       "    </tr>\n",
       "  </tbody>\n",
       "</table>\n",
       "<p>4984 rows × 3 columns</p>\n",
       "</div>"
      ],
      "text/plain": [
       "      USER_ID VARIANT_NAME  REVENUE\n",
       "1        2423      control      0.0\n",
       "2        9411      control      0.0\n",
       "3        7311      control      0.0\n",
       "6        2849      control      0.0\n",
       "7        9168      control      0.0\n",
       "...       ...          ...      ...\n",
       "9988      428      control      0.0\n",
       "9994     3129      control      0.0\n",
       "9995     1981      control      0.0\n",
       "9998     7741      control      0.0\n",
       "9999     9468      control      0.0\n",
       "\n",
       "[4984 rows x 3 columns]"
      ]
     },
     "execution_count": 5,
     "metadata": {},
     "output_type": "execute_result"
    }
   ],
   "source": [
    "control"
   ]
  },
  {
   "cell_type": "code",
   "execution_count": 6,
   "id": "258d9f97",
   "metadata": {},
   "outputs": [
    {
     "data": {
      "text/html": [
       "<div>\n",
       "<style scoped>\n",
       "    .dataframe tbody tr th:only-of-type {\n",
       "        vertical-align: middle;\n",
       "    }\n",
       "\n",
       "    .dataframe tbody tr th {\n",
       "        vertical-align: top;\n",
       "    }\n",
       "\n",
       "    .dataframe thead th {\n",
       "        text-align: right;\n",
       "    }\n",
       "</style>\n",
       "<table border=\"1\" class=\"dataframe\">\n",
       "  <thead>\n",
       "    <tr style=\"text-align: right;\">\n",
       "      <th></th>\n",
       "      <th>USER_ID</th>\n",
       "      <th>VARIANT_NAME</th>\n",
       "      <th>REVENUE</th>\n",
       "    </tr>\n",
       "  </thead>\n",
       "  <tbody>\n",
       "    <tr>\n",
       "      <th>0</th>\n",
       "      <td>737</td>\n",
       "      <td>variant</td>\n",
       "      <td>0.00</td>\n",
       "    </tr>\n",
       "    <tr>\n",
       "      <th>4</th>\n",
       "      <td>6174</td>\n",
       "      <td>variant</td>\n",
       "      <td>0.00</td>\n",
       "    </tr>\n",
       "    <tr>\n",
       "      <th>5</th>\n",
       "      <td>2380</td>\n",
       "      <td>variant</td>\n",
       "      <td>0.00</td>\n",
       "    </tr>\n",
       "    <tr>\n",
       "      <th>8</th>\n",
       "      <td>6205</td>\n",
       "      <td>variant</td>\n",
       "      <td>0.00</td>\n",
       "    </tr>\n",
       "    <tr>\n",
       "      <th>13</th>\n",
       "      <td>2529</td>\n",
       "      <td>variant</td>\n",
       "      <td>2.15</td>\n",
       "    </tr>\n",
       "    <tr>\n",
       "      <th>...</th>\n",
       "      <td>...</td>\n",
       "      <td>...</td>\n",
       "      <td>...</td>\n",
       "    </tr>\n",
       "    <tr>\n",
       "      <th>9991</th>\n",
       "      <td>8864</td>\n",
       "      <td>variant</td>\n",
       "      <td>0.00</td>\n",
       "    </tr>\n",
       "    <tr>\n",
       "      <th>9992</th>\n",
       "      <td>9303</td>\n",
       "      <td>variant</td>\n",
       "      <td>0.00</td>\n",
       "    </tr>\n",
       "    <tr>\n",
       "      <th>9993</th>\n",
       "      <td>2400</td>\n",
       "      <td>variant</td>\n",
       "      <td>0.00</td>\n",
       "    </tr>\n",
       "    <tr>\n",
       "      <th>9996</th>\n",
       "      <td>502</td>\n",
       "      <td>variant</td>\n",
       "      <td>0.00</td>\n",
       "    </tr>\n",
       "    <tr>\n",
       "      <th>9997</th>\n",
       "      <td>9214</td>\n",
       "      <td>variant</td>\n",
       "      <td>0.00</td>\n",
       "    </tr>\n",
       "  </tbody>\n",
       "</table>\n",
       "<p>5016 rows × 3 columns</p>\n",
       "</div>"
      ],
      "text/plain": [
       "      USER_ID VARIANT_NAME  REVENUE\n",
       "0         737      variant     0.00\n",
       "4        6174      variant     0.00\n",
       "5        2380      variant     0.00\n",
       "8        6205      variant     0.00\n",
       "13       2529      variant     2.15\n",
       "...       ...          ...      ...\n",
       "9991     8864      variant     0.00\n",
       "9992     9303      variant     0.00\n",
       "9993     2400      variant     0.00\n",
       "9996      502      variant     0.00\n",
       "9997     9214      variant     0.00\n",
       "\n",
       "[5016 rows x 3 columns]"
      ]
     },
     "execution_count": 6,
     "metadata": {},
     "output_type": "execute_result"
    }
   ],
   "source": [
    "test"
   ]
  },
  {
   "cell_type": "markdown",
   "id": "884a727e",
   "metadata": {},
   "source": [
    "# Step 1 -  Formulating Hypotheses"
   ]
  },
  {
   "cell_type": "markdown",
   "id": "b0c71deb",
   "metadata": {},
   "source": [
    "Null Hypothesis (H0): μ1 = μ2 (There is no statistically significant difference in terms of revenue between the Control and Variant Groups)\n",
    "\n",
    "Alternative Hypothesis (H1): μ1 ≠ μ2 (There is a statistically significant difference between the Control and Variant Groups in terms of revenue)"
   ]
  },
  {
   "cell_type": "markdown",
   "id": "ec03f0e5",
   "metadata": {},
   "source": [
    "# Step 2 - Checking assumptions"
   ]
  },
  {
   "cell_type": "markdown",
   "id": "2632f343",
   "metadata": {},
   "source": [
    "When performing an A/B test, there are several assumptions that should be checked to ensure the validity of the statistical analysis.\n",
    "\n",
    "### Normal Distribution  (Shapiro-Wilk Test).\n",
    "\n",
    "H0: The assumption of normal distribution is satisfied.\n",
    "\n",
    "H1: The assumption of normal distribution is not satisfied.\n",
    "\n",
    "$p < 0.05$: H0 REJECTED\n",
    "\n",
    "$p > 0.05$: H0 NOT REJECTED\n",
    "\n",
    "### Homogeneity of Variance.\n",
    "\n",
    "H0: Variances of the groups are homogeneous.\n",
    "\n",
    "H1: Variances of the groups are not homogeneous.\n",
    "\n",
    "$p < 0.05$: H0 REJECTED\n",
    "\n",
    "$p > 0.05$: H0 NOT REJECTED"
   ]
  },
  {
   "cell_type": "code",
   "execution_count": 7,
   "id": "412dad8e",
   "metadata": {},
   "outputs": [
    {
     "name": "stdout",
     "output_type": "stream",
     "text": [
      "Test Stat=0.018, P-value=0.000\n",
      "Test Stat=0.027, P-value=0.000\n"
     ]
    }
   ],
   "source": [
    "t, p_value = shapiro(control[\"REVENUE\"])\n",
    "print('Test Stat=%.3f, P-value=%.3f'%(t, p_value))\n",
    "\n",
    "t, p_value = shapiro(test[\"REVENUE\"])\n",
    "print('Test Stat=%.3f, P-value=%.3f'%(t, p_value))"
   ]
  },
  {
   "cell_type": "markdown",
   "id": "53263566",
   "metadata": {},
   "source": [
    "P-Value is less than 0.05 so we reject H0 hyposesis, indicating that the data does not follow a normal distribution. \n",
    "As a result, there is no need to assess the homogeneity of variances. We can proceed directly to non-parametric statistical analysis, specifically the Mann-Whitney test."
   ]
  },
  {
   "cell_type": "markdown",
   "id": "7cf31b6d",
   "metadata": {},
   "source": [
    "# Step 3 - Performing Mann-Whitney non-parametric test "
   ]
  },
  {
   "cell_type": "code",
   "execution_count": 8,
   "id": "bd8345c5",
   "metadata": {
    "scrolled": true
   },
   "outputs": [
    {
     "name": "stdout",
     "output_type": "stream",
     "text": [
      "Test stat = 12521564.0000, P-value=0.4783\n"
     ]
    }
   ],
   "source": [
    "test_stat,pvalue = mannwhitneyu(control[\"REVENUE\"],\n",
    "                                test['REVENUE'])\n",
    "print('Test stat = %.4f, P-value=%.4f'%(test_stat,pvalue))"
   ]
  },
  {
   "cell_type": "markdown",
   "id": "e692a57e",
   "metadata": {},
   "source": [
    "Result: P-valie > 0.05 that means that we accept the null hypothesis. In this context, we conclude that there is no statistically significant difference in terms of revenue between the Control and Variant Groups."
   ]
  },
  {
   "cell_type": "markdown",
   "id": "58eaec6b",
   "metadata": {},
   "source": [
    "# Bootstraping method"
   ]
  },
  {
   "cell_type": "markdown",
   "id": "b3923214",
   "metadata": {},
   "source": [
    "In order to get more complete information about the differences between the average values of the ab test groups, we will use bootstap. Let's create a function to get back samples and get a confidence interval, and then look at the sample statistics."
   ]
  },
  {
   "cell_type": "code",
   "execution_count": 9,
   "id": "2b2c826d",
   "metadata": {},
   "outputs": [],
   "source": [
    "def get_bootstrap_samples(data, n_samples=1000):\n",
    "    indices = np.random.randint(0, len(data), (n_samples, len(data)))\n",
    "    samples = data[indices]\n",
    "    return samples\n",
    "\n",
    "def stat_intervals(stat, alpha=0.05):\n",
    "    boundaries = np.percentile(stat, [100 * alpha / 2., 100 * (1 - alpha / 2.)])\n",
    "    return boundaries"
   ]
  },
  {
   "cell_type": "markdown",
   "id": "bb4888bd",
   "metadata": {},
   "source": [
    "Samples for all users"
   ]
  },
  {
   "cell_type": "code",
   "execution_count": 10,
   "id": "50fe9fb3",
   "metadata": {},
   "outputs": [],
   "source": [
    "control = get_bootstrap_samples(df.loc[df.VARIANT_NAME == 'control', 'REVENUE'].values, 10000)\n",
    "variant = get_bootstrap_samples(df.loc[df.VARIANT_NAME == 'variant', 'REVENUE'].values, 10000)"
   ]
  },
  {
   "cell_type": "markdown",
   "id": "edea387f",
   "metadata": {},
   "source": [
    "Only paying users"
   ]
  },
  {
   "cell_type": "code",
   "execution_count": 11,
   "id": "ce363809",
   "metadata": {},
   "outputs": [],
   "source": [
    "control_paid = get_bootstrap_samples(df.loc[(df.VARIANT_NAME == 'control') & (df.REVENUE > 0), 'REVENUE'].values, 10000)\n",
    "variant_paid = get_bootstrap_samples(df.loc[(df.VARIANT_NAME == 'variant') & (df.REVENUE > 0), 'REVENUE'].values, 10000)"
   ]
  },
  {
   "cell_type": "code",
   "execution_count": 12,
   "id": "38e9619d",
   "metadata": {},
   "outputs": [],
   "source": [
    "control_mean = np.mean(control, axis = 1)\n",
    "variant_mean = np.mean(variant, axis = 1)"
   ]
  },
  {
   "cell_type": "code",
   "execution_count": 13,
   "id": "7f77cf80",
   "metadata": {},
   "outputs": [
    {
     "data": {
      "text/plain": [
       "Text(0.5, 1.0, 'Sample mean distribution for all users')"
      ]
     },
     "execution_count": 13,
     "metadata": {},
     "output_type": "execute_result"
    },
    {
     "data": {
      "image/png": "[encoded data removed]",
      "text/plain": [
       "<Figure size 640x480 with 1 Axes>"
      ]
     },
     "metadata": {},
     "output_type": "display_data"
    }
   ],
   "source": [
    "#Plotting the distribution of means in the ab test groups\n",
    "kde_cm = stats.gaussian_kde(control_mean, bw_method = 0.05)\n",
    "kde_vm = stats.gaussian_kde(variant_mean, bw_method = 0.05)\n",
    "xx = np.linspace(0, 0.4, 1000)\n",
    "plt.fill_between(xx, y1 = kde_cm(xx), color = 'red', alpha = 0.5)\n",
    "plt.fill_between(xx, y1 = kde_vm(xx), color = 'green', alpha = 0.5)\n",
    "plt.ylabel(\"Density\")\n",
    "plt.xlabel(\"Mean value\")\n",
    "plt.title('Sample mean distribution for all users')"
   ]
  },
  {
   "cell_type": "markdown",
   "id": "82c03429",
   "metadata": {},
   "source": [
    "There are differences between the mean values, but since their confidence intervals might overlap, we need to study the distribution of these differences to make clear conclusions.\n",
    "We will proceed by developing a function to visualize this mean difference distribution and to construct confidence intervals for it. This approach will help us better understand and quantify the distinctions between the group measurements."
   ]
  },
  {
   "cell_type": "code",
   "execution_count": 14,
   "id": "f22a5d57",
   "metadata": {},
   "outputs": [],
   "source": [
    "control_mean_paid = np.mean(control_paid, axis = 1)\n",
    "variant_mean_paid = np.mean(variant_paid, axis = 1)"
   ]
  },
  {
   "cell_type": "markdown",
   "id": "4aa2cbbe",
   "metadata": {},
   "source": [
    "kde_cm = stats.gaussian_kde(control_mean_paid, bw_method = 0.05)\n",
    "kde_vm = stats.gaussian_kde(variant_mean_paid, bw_method = 0.05)\n",
    "xx = np.linspace(0, 18.0, 1000)\n",
    "plt.fill_between(xx, y1 = kde_cm(xx), color = 'red', alpha = 0.5)\n",
    "plt.fill_between(xx, y1 = kde_vm(xx), color = 'green', alpha = 0.5)\n",
    "plt.ylabel(\"Density\")\n",
    "plt.xlabel(\"Mean value\")\n",
    "plt.title('Sample mean distribution for paying users')"
   ]
  },
  {
   "cell_type": "code",
   "execution_count": 15,
   "id": "5903c62d",
   "metadata": {},
   "outputs": [],
   "source": [
    "cl = stat_intervals(variant_mean - control_mean, alpha=0.05)\n",
    "kde_cm = stats.gaussian_kde(control_mean, bw_method = 0.05)"
   ]
  },
  {
   "cell_type": "code",
   "execution_count": 16,
   "id": "2b6f3b01",
   "metadata": {},
   "outputs": [
    {
     "data": {
      "text/plain": [
       "<matplotlib.legend.Legend at 0x1482419d0>"
      ]
     },
     "execution_count": 16,
     "metadata": {},
     "output_type": "execute_result"
    },
    {
     "data": {
      "image/png": "[encoded data removed]",
      "text/plain": [
       "<Figure size 640x480 with 1 Axes>"
      ]
     },
     "metadata": {},
     "output_type": "display_data"
    }
   ],
   "source": [
    "cl = stat_intervals(variant_mean - control_mean, alpha=0.01)\n",
    "kde_d = stats.gaussian_kde(variant_mean - control_mean, bw_method = 0.05)\n",
    "xx = np.linspace(-0.3, 0.1, 1000)\n",
    "plt.fill_between(xx, y1 = kde_d(xx), color = 'blue', alpha = 0.5)\n",
    "plt.axvline(cl[0], ls = '--', color = 'red',label=r'98% confidence interval')\n",
    "plt.axvline(cl[1],  ls = '--', color = 'red')\n",
    "plt.axvline(0, ls='-',color='black',label='Match')\n",
    "plt.xlabel('Difference between \"control\" and \"variant\"')\n",
    "plt.ylabel('Density')\n",
    "plt.legend()"
   ]
  },
  {
   "cell_type": "code",
   "execution_count": null,
   "id": "6af56172",
   "metadata": {},
   "outputs": [],
   "source": []
  }
 ],
 "metadata": {
  "kernelspec": {
   "display_name": "base",
   "language": "python",
   "name": "python3"
  },
  "language_info": {
   "codemirror_mode": {
    "name": "ipython",
    "version": 3
   },
   "file_extension": ".py",
   "mimetype": "text/x-python",
   "name": "python",
   "nbconvert_exporter": "python",
   "pygments_lexer": "ipython3",
   "version": "3.12.2"
  }
 },
 "nbformat": 4,
 "nbformat_minor": 5
}
